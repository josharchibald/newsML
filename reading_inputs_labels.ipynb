{
 "cells": [
  {
   "cell_type": "code",
   "execution_count": 1,
   "metadata": {},
   "outputs": [],
   "source": [
    "import h5py\n",
    "import numpy as np\n",
    "import text_dataset\n"
   ]
  },
  {
   "cell_type": "code",
   "execution_count": 7,
   "metadata": {},
   "outputs": [],
   "source": [
    "text_files = r'C:\\Users\\joshu\\newsML\\news_inputs/text_data_input.h5'\n",
    "keywords_files = r'C:\\Users\\joshu\\newsML\\news_inputs/keywords_data_input.h5'"
   ]
  },
  {
   "cell_type": "code",
   "execution_count": 8,
   "metadata": {},
   "outputs": [],
   "source": [
    "text_file_names = []\n",
    "with h5py.File(text_files, 'r') as f:\n",
    "      for set in f:\n",
    "        text_file_names.append(set)\n",
    "keywords_file_names = []\n",
    "with h5py.File(keywords_files, 'r') as f:\n",
    "      for set in f:\n",
    "        keywords_file_names.append(set)"
   ]
  },
  {
   "cell_type": "code",
   "execution_count": 9,
   "metadata": {},
   "outputs": [
    {
     "name": "stdout",
     "output_type": "stream",
     "text": [
      "['text_data_0000', 'text_data_0001', 'text_data_0002', 'text_data_0003', 'text_data_0004', 'text_data_0005', 'text_data_0006', 'text_data_0007', 'text_data_0008', 'text_data_0009', 'text_data_0010', 'text_data_0011', 'text_data_0012', 'text_data_0013', 'text_data_0014', 'text_data_0015', 'text_data_0016', 'text_data_0017', 'text_data_0018', 'text_data_0019', 'text_data_0020', 'text_data_0021', 'text_data_0022', 'text_data_0023', 'text_data_0024', 'text_data_0025', 'text_data_0026', 'text_data_0027', 'text_data_0028', 'text_data_0029', 'text_data_0030', 'text_data_0031', 'text_data_0032', 'text_data_0033', 'text_data_0034', 'text_data_0035', 'text_data_0036', 'text_data_0037', 'text_data_0038', 'text_data_0039', 'text_data_0040', 'text_data_0041', 'text_data_0042', 'text_data_0043', 'text_data_0044', 'text_data_0045', 'text_data_0046', 'text_data_0047', 'text_data_0048', 'text_data_0049', 'text_data_0050', 'text_data_0051']\n",
      "['keywords_data_0000', 'keywords_data_0001', 'keywords_data_0002', 'keywords_data_0003', 'keywords_data_0004', 'keywords_data_0005', 'keywords_data_0006', 'keywords_data_0007', 'keywords_data_0008', 'keywords_data_0009', 'keywords_data_0010', 'keywords_data_0011', 'keywords_data_0012', 'keywords_data_0013', 'keywords_data_0014', 'keywords_data_0015', 'keywords_data_0016', 'keywords_data_0017', 'keywords_data_0018', 'keywords_data_0019', 'keywords_data_0020', 'keywords_data_0021', 'keywords_data_0022', 'keywords_data_0023', 'keywords_data_0024', 'keywords_data_0025', 'keywords_data_0026', 'keywords_data_0027', 'keywords_data_0028', 'keywords_data_0029', 'keywords_data_0030', 'keywords_data_0031', 'keywords_data_0032', 'keywords_data_0033', 'keywords_data_0034', 'keywords_data_0035', 'keywords_data_0036', 'keywords_data_0037', 'keywords_data_0038', 'keywords_data_0039', 'keywords_data_0040', 'keywords_data_0041', 'keywords_data_0042', 'keywords_data_0043', 'keywords_data_0044', 'keywords_data_0045', 'keywords_data_0046', 'keywords_data_0047', 'keywords_data_0048', 'keywords_data_0049', 'keywords_data_0050', 'keywords_data_0051']\n"
     ]
    }
   ],
   "source": [
    "print((text_file_names))\n",
    "print(keywords_file_names)"
   ]
  },
  {
   "cell_type": "code",
   "execution_count": 6,
   "metadata": {},
   "outputs": [
    {
     "ename": "NameError",
     "evalue": "name 'text_files' is not defined",
     "output_type": "error",
     "traceback": [
      "\u001b[1;31m---------------------------------------------------------------------------\u001b[0m",
      "\u001b[1;31mNameError\u001b[0m                                 Traceback (most recent call last)",
      "\u001b[1;32mc:\\Users\\joshu\\newsML\\reading_inputs_labels.ipynb Cell 5\u001b[0m line \u001b[0;36m2\n\u001b[0;32m      <a href='vscode-notebook-cell:/c%3A/Users/joshu/newsML/reading_inputs_labels.ipynb#W4sZmlsZQ%3D%3D?line=0'>1</a>\u001b[0m \u001b[39m# Read Text Data\u001b[39;00m\n\u001b[1;32m----> <a href='vscode-notebook-cell:/c%3A/Users/joshu/newsML/reading_inputs_labels.ipynb#W4sZmlsZQ%3D%3D?line=1'>2</a>\u001b[0m \u001b[39mwith\u001b[39;00m h5py\u001b[39m.\u001b[39mFile(text_files, \u001b[39m'\u001b[39m\u001b[39mr\u001b[39m\u001b[39m'\u001b[39m) \u001b[39mas\u001b[39;00m f:\n\u001b[0;32m      <a href='vscode-notebook-cell:/c%3A/Users/joshu/newsML/reading_inputs_labels.ipynb#W4sZmlsZQ%3D%3D?line=2'>3</a>\u001b[0m   text \u001b[39m=\u001b[39m np\u001b[39m.\u001b[39mshape(f[text_file_names[\u001b[39m1\u001b[39m]][:])\n\u001b[0;32m      <a href='vscode-notebook-cell:/c%3A/Users/joshu/newsML/reading_inputs_labels.ipynb#W4sZmlsZQ%3D%3D?line=4'>5</a>\u001b[0m \u001b[39m# Read Keywords Data\u001b[39;00m\n",
      "\u001b[1;31mNameError\u001b[0m: name 'text_files' is not defined"
     ]
    }
   ],
   "source": [
    "# Read Text Data\n",
    "with h5py.File(text_files, 'r') as f:\n",
    "  text = np.shape(f[text_file_names[1]][:])\n",
    "\n",
    "# Read Keywords Data\n",
    "with h5py.File(keywords_files, 'r') as f:\n",
    "  keywords = np.shape(f[keywords_file_names[1]][:])\n",
    "\n",
    "print(text)\n",
    "print(keywords)"
   ]
  },
  {
   "cell_type": "code",
   "execution_count": 13,
   "metadata": {},
   "outputs": [
    {
     "name": "stdout",
     "output_type": "stream",
     "text": [
      "10\n"
     ]
    }
   ],
   "source": [
    "with h5py.File(r'C:\\Users\\joshu\\newsML\\stock_labels\\stock_labels.h5',\\\n",
    "              'r') as f:\n",
    "  print(np.shape(f['stock_labels'])[1])"
   ]
  },
  {
   "cell_type": "code",
   "execution_count": null,
   "metadata": {},
   "outputs": [],
   "source": []
  }
 ],
 "metadata": {
  "kernelspec": {
   "display_name": "Python 3",
   "language": "python",
   "name": "python3"
  },
  "language_info": {
   "codemirror_mode": {
    "name": "ipython",
    "version": 3
   },
   "file_extension": ".py",
   "mimetype": "text/x-python",
   "name": "python",
   "nbconvert_exporter": "python",
   "pygments_lexer": "ipython3",
   "version": "3.10.0"
  },
  "orig_nbformat": 4
 },
 "nbformat": 4,
 "nbformat_minor": 2
}
