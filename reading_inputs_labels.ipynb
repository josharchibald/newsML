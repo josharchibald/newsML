{
 "cells": [
  {
   "cell_type": "code",
   "execution_count": 1,
   "metadata": {},
   "outputs": [],
   "source": [
    "import h5py\n",
    "import numpy as np\n"
   ]
  },
  {
   "cell_type": "code",
   "execution_count": 8,
   "metadata": {},
   "outputs": [
    {
     "name": "stdout",
     "output_type": "stream",
     "text": [
      "[ 0.72875785  0.          0.          0.02074385  0.94989927  0.\n",
      "  0.         -0.57668299  2.35298966 -0.19478744  1.09270937  0.37109372\n",
      " -0.85009649  1.76140273 -1.40860192  1.8553988   1.78888923  1.06024684\n",
      "  2.20032543  0.          0.          0.91171106 -0.62198095 -3.69151068\n",
      "  2.4556658   1.61108073  2.4957744   0.87655161 -0.43642888  1.1375394\n",
      " -1.25470972 -1.6832416   0.7053345   0.          0.          2.83159086\n",
      "  0.09283788 -1.77308982 -0.02659223  1.08352856  3.09106141  0.82387065\n",
      "  0.46526887  0.23982099  1.83039529  0.41677853 -0.00883826  0.20159516\n",
      " -1.38412691  2.51366028  0.77276381  0.77276381]\n"
     ]
    }
   ],
   "source": [
    "with h5py.File(r'sp500_profits/sp500_profits.h5', 'r') as f:\n",
    "  for set in f:\n",
    "    print(f[set][:])\n"
   ]
  },
  {
   "cell_type": "code",
   "execution_count": 9,
   "metadata": {},
   "outputs": [
    {
     "name": "stdout",
     "output_type": "stream",
     "text": [
      "[[ 0.97616664 -0.69369163  3.46347903 ...  0.3568292   0.84212901\n",
      "   2.15746761]\n",
      " [ 0.          0.          0.         ...  0.          0.\n",
      "   0.        ]\n",
      " [ 0.          0.          0.         ...  0.          0.\n",
      "   0.        ]\n",
      " ...\n",
      " [ 3.92459586  4.97600567  1.62533615 ...  5.27286876  2.23950896\n",
      "   0.20165827]\n",
      " [ 1.85399051  0.69757223  2.24080051 ... -1.21882714  0.26194113\n",
      "   0.51327721]\n",
      " [ 1.85399051  0.69757223  2.24080051 ... -1.21882714  0.26194113\n",
      "   0.51327721]]\n"
     ]
    }
   ],
   "source": [
    "with h5py.File(r'stock_profits/stock_profits.h5', 'r') as f:\n",
    "  for set in f:\n",
    "    print(f[set][:])\n"
   ]
  },
  {
   "cell_type": "code",
   "execution_count": null,
   "metadata": {},
   "outputs": [],
   "source": []
  }
 ],
 "metadata": {
  "kernelspec": {
   "display_name": "Python 3",
   "language": "python",
   "name": "python3"
  },
  "language_info": {
   "codemirror_mode": {
    "name": "ipython",
    "version": 3
   },
   "file_extension": ".py",
   "mimetype": "text/x-python",
   "name": "python",
   "nbconvert_exporter": "python",
   "pygments_lexer": "ipython3",
   "version": "3.11.5"
  },
  "orig_nbformat": 4
 },
 "nbformat": 4,
 "nbformat_minor": 2
}
